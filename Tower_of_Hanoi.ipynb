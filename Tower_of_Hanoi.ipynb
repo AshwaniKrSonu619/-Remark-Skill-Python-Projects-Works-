{
  "nbformat": 4,
  "nbformat_minor": 0,
  "metadata": {
    "colab": {
      "name": "Tower of Hanoi.ipynb",
      "provenance": [],
      "authorship_tag": "ABX9TyNDAKPLVvGHGog2rEF5Q7on",
      "include_colab_link": true
    },
    "kernelspec": {
      "name": "python3",
      "display_name": "Python 3"
    },
    "language_info": {
      "name": "python"
    }
  },
  "cells": [
    {
      "cell_type": "markdown",
      "metadata": {
        "id": "view-in-github",
        "colab_type": "text"
      },
      "source": [
        "<a href=\"https://colab.research.google.com/github/AshwaniKrSonu619/-Remark-Skill-Python-Projects-Works-/blob/main/Tower_of_Hanoi.ipynb\" target=\"_parent\"><img src=\"https://colab.research.google.com/assets/colab-badge.svg\" alt=\"Open In Colab\"/></a>"
      ]
    },
    {
      "cell_type": "code",
      "execution_count": null,
      "metadata": {
        "id": "2UtxN6Ut5JpN"
      },
      "outputs": [],
      "source": [
        ""
      ]
    },
    {
      "cell_type": "code",
      "source": [
        ""
      ],
      "metadata": {
        "id": "sd82TzGS5MiG"
      },
      "execution_count": null,
      "outputs": []
    },
    {
      "cell_type": "markdown",
      "source": [
        "# **Tower of Hanoi**"
      ],
      "metadata": {
        "id": "LESWON2c5NAJ"
      }
    },
    {
      "cell_type": "code",
      "source": [
        "# Recursive Python function to solve the tower of hanoi\n",
        "\n",
        "def TowerOfHanoi(n , source, destination, auxiliary):\n",
        "\tif n==1:\n",
        "\t\tprint (\"Move disk 1 from source\",source,\"to destination\",destination)\n",
        "\t\treturn\n",
        "\tTowerOfHanoi(n-1, source, auxiliary, destination)\n",
        "\tprint (\"Move disk\",n,\"from source\",source,\"to destination\",destination)\n",
        "\tTowerOfHanoi(n-1, auxiliary, destination, source)\n",
        "\t\t\n",
        "# Driver code\n",
        "n = 4\n",
        "TowerOfHanoi(n,'A','B','C')\n",
        "# A, C, B are the name of rods\n",
        "\n"
      ],
      "metadata": {
        "colab": {
          "base_uri": "https://localhost:8080/"
        },
        "id": "XCtpA7Fm5ZWr",
        "outputId": "64674b4f-7fbb-4b6b-f478-b4ac20daacc8"
      },
      "execution_count": 1,
      "outputs": [
        {
          "output_type": "stream",
          "name": "stdout",
          "text": [
            "Move disk 1 from source A to destination C\n",
            "Move disk 2 from source A to destination B\n",
            "Move disk 1 from source C to destination B\n",
            "Move disk 3 from source A to destination C\n",
            "Move disk 1 from source B to destination A\n",
            "Move disk 2 from source B to destination C\n",
            "Move disk 1 from source A to destination C\n",
            "Move disk 4 from source A to destination B\n",
            "Move disk 1 from source C to destination B\n",
            "Move disk 2 from source C to destination A\n",
            "Move disk 1 from source B to destination A\n",
            "Move disk 3 from source C to destination B\n",
            "Move disk 1 from source A to destination C\n",
            "Move disk 2 from source A to destination B\n",
            "Move disk 1 from source C to destination B\n"
          ]
        }
      ]
    }
  ]
}