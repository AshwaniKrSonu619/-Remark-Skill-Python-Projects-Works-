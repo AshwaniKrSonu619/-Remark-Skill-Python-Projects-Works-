{
  "nbformat": 4,
  "nbformat_minor": 0,
  "metadata": {
    "colab": {
      "name": "Guessing Game.ipynb",
      "provenance": [],
      "authorship_tag": "ABX9TyNjfye3EmIiwek2FFLuAwuA",
      "include_colab_link": true
    },
    "kernelspec": {
      "name": "python3",
      "display_name": "Python 3"
    },
    "language_info": {
      "name": "python"
    }
  },
  "cells": [
    {
      "cell_type": "markdown",
      "metadata": {
        "id": "view-in-github",
        "colab_type": "text"
      },
      "source": [
        "<a href=\"https://colab.research.google.com/github/AshwaniKrSonu619/-Remark-Skill-Python-Projects-Works-/blob/main/Guessing_Game.ipynb\" target=\"_parent\"><img src=\"https://colab.research.google.com/assets/colab-badge.svg\" alt=\"Open In Colab\"/></a>"
      ]
    },
    {
      "cell_type": "markdown",
      "source": [
        "## **Guessing Game**"
      ],
      "metadata": {
        "id": "y9KkEcBxOKfC"
      }
    },
    {
      "cell_type": "code",
      "source": [
        "import random\n",
        "number = random.randint(1, 100)\n",
        "\n",
        "player_name = input(\"Hello, What's your name?\")\n",
        "number_of_guesses = 0\n",
        "print('okay! '+ player_name+ ' I am Guessing a number between 1 and 100:')\n",
        "\n",
        "while number_of_guesses < 5:\n",
        "    guess = int(input())\n",
        "    number_of_guesses += 1\n",
        "    if guess < number:\n",
        "        print('Your guess is too low')\n",
        "    if guess > number:\n",
        "        print('Your guess is too high')\n",
        "    if guess == number:\n",
        "        break\n",
        "if guess == number:\n",
        "    print('You guessed the number in ' + str(number_of_guesses) + ' tries!')\n",
        "else:\n",
        "    print('You did not guess the number, The number was ' + str(number))"
      ],
      "metadata": {
        "colab": {
          "base_uri": "https://localhost:8080/",
          "height": 0
        },
        "id": "GfEUlMeKOSzy",
        "outputId": "b8afb719-61ba-4561-ca01-e6037fe74d41"
      },
      "execution_count": 1,
      "outputs": [
        {
          "output_type": "stream",
          "name": "stdout",
          "text": [
            "Hello, What's your name?Ashwani Kumar Sonu\n",
            "okay! Ashwani Kumar Sonu I am Guessing a number between 1 and 100:\n",
            "1\n",
            "Your guess is too low\n",
            "100\n",
            "Your guess is too high\n",
            "22\n",
            "Your guess is too low\n",
            "85\n",
            "Your guess is too high\n",
            "11\n",
            "Your guess is too low\n",
            "You did not guess the number, The number was 74\n"
          ]
        }
      ]
    }
  ]
}