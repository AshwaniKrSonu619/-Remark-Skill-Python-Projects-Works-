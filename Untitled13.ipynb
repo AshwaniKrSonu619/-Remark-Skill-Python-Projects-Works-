{
  "nbformat": 4,
  "nbformat_minor": 0,
  "metadata": {
    "colab": {
      "name": "Untitled13.ipynb",
      "provenance": [],
      "authorship_tag": "ABX9TyOFJq849jF4O7NxaGkhLyMw",
      "include_colab_link": true
    },
    "kernelspec": {
      "name": "python3",
      "display_name": "Python 3"
    },
    "language_info": {
      "name": "python"
    }
  },
  "cells": [
    {
      "cell_type": "markdown",
      "metadata": {
        "id": "view-in-github",
        "colab_type": "text"
      },
      "source": [
        "<a href=\"https://colab.research.google.com/github/AshwaniKrSonu619/-Remark-Skill-Python-Projects-Works-/blob/main/Untitled13.ipynb\" target=\"_parent\"><img src=\"https://colab.research.google.com/assets/colab-badge.svg\" alt=\"Open In Colab\"/></a>"
      ]
    },
    {
      "cell_type": "markdown",
      "source": [
        "### Interactive Dictionary "
      ],
      "metadata": {
        "id": "TeZDlwwma6DG"
      }
    },
    {
      "cell_type": "code",
      "execution_count": 19,
      "metadata": {
        "id": "HKH66s9ZVBtS",
        "colab": {
          "base_uri": "https://localhost:8080/"
        },
        "outputId": "deeeca25-7ce7-4151-b71e-a0baede2686e"
      },
      "outputs": [
        {
          "output_type": "stream",
          "name": "stdout",
          "text": [
            "Enter word: Hungary\n",
            "Did you mean hungry instead? Enter Y if yes or N if no: \n",
            "Y\n",
            "Desirous of food; having a physical need for food.\n"
          ]
        }
      ],
      "source": [
        "import json\n",
        "from difflib import get_close_matches\n",
        "\n",
        "#load JSON data\n",
        "data = json.load(open(\"data.json\"))\n",
        "\n",
        "#take word from user\n",
        "word = input('Enter word: ')\n",
        "\n",
        "#function to return meaning of the word from data\n",
        "def getMeaning(w):\n",
        "    #for case sensitivity\n",
        "    w = w.lower()\n",
        "    #if-else to check word exist in our data or not\n",
        "    if w in data:\n",
        "        return data[w]\n",
        "    #give matching word\n",
        "    elif len(get_close_matches(w,data.keys())) > 0:\n",
        "        close_match = get_close_matches(w,data.keys())[0]\n",
        "        print(\"Did you mean %s instead? Enter Y if yes or N if no: \" % close_match)\n",
        "        choice = input()\n",
        "        choice = choice.lower()\n",
        "        if choice == 'y':\n",
        "            return data[close_match]\n",
        "        elif choice == 'n':\n",
        "            return \"The word doesn't exist. Please double check it.\"\n",
        "        else:\n",
        "            return \"Sorry, We didn't understand your entry.\"\n",
        "    else:\n",
        "        return \"The word doesn't exist. Please double check it.\"\n",
        "\n",
        "#function call to get meaning of the word entered by user\n",
        "meaning = getMeaning(word)\n",
        "\n",
        "#printing meaning of the word in console\n",
        "if type(meaning) == list:\n",
        "    for item in meaning:\n",
        "        print(item)\n",
        "else:\n",
        "    print(meaning)"
      ]
    }
  ]
}