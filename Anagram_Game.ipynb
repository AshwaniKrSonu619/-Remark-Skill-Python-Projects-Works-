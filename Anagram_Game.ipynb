{
  "nbformat": 4,
  "nbformat_minor": 0,
  "metadata": {
    "colab": {
      "name": "Anagram Game.ipynb",
      "provenance": [],
      "authorship_tag": "ABX9TyM1laO5Rrt/akh34gWE3DOJ",
      "include_colab_link": true
    },
    "kernelspec": {
      "name": "python3",
      "display_name": "Python 3"
    },
    "language_info": {
      "name": "python"
    }
  },
  "cells": [
    {
      "cell_type": "markdown",
      "metadata": {
        "id": "view-in-github",
        "colab_type": "text"
      },
      "source": [
        "<a href=\"https://colab.research.google.com/github/AshwaniKrSonu619/-Remark-Skill-Python-Projects-Works-/blob/main/Anagram_Game.ipynb\" target=\"_parent\"><img src=\"https://colab.research.google.com/assets/colab-badge.svg\" alt=\"Open In Colab\"/></a>"
      ]
    },
    {
      "cell_type": "markdown",
      "source": [
        "# **Anagram Game**"
      ],
      "metadata": {
        "id": "GvHwyLDnhfii"
      }
    },
    {
      "cell_type": "code",
      "source": [
        "from collections import Counter, defaultdict  \n",
        "def checking_anagram(keywords):  \n",
        "    agrms = defaultdict(list)  \n",
        "    for i in keywords:  \n",
        "        hist = tuple(Counter(i).items())  \n",
        "        agrms[hist].append(i)  \n",
        "    return list(agrms.values())  \n",
        "keywords = (\"python\",\"yphotn\")  \n",
        "print(checking_anagram(keywords))  "
      ],
      "metadata": {
        "colab": {
          "base_uri": "https://localhost:8080/"
        },
        "id": "G_r3DxGpkxvk",
        "outputId": "02030a75-cc79-48aa-df92-b4ef70c9ce21"
      },
      "execution_count": 12,
      "outputs": [
        {
          "output_type": "stream",
          "name": "stdout",
          "text": [
            "[['python'], ['yphotn']]\n"
          ]
        }
      ]
    }
  ]
}