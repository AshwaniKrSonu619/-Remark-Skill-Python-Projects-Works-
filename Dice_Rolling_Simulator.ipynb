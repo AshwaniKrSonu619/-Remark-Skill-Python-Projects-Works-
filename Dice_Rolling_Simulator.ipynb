{
  "nbformat": 4,
  "nbformat_minor": 0,
  "metadata": {
    "colab": {
      "name": "Dice Rolling Simulator.ipynb",
      "provenance": [],
      "authorship_tag": "ABX9TyM0yPtMW8FHGNIu+6nis0CZ",
      "include_colab_link": true
    },
    "kernelspec": {
      "name": "python3",
      "display_name": "Python 3"
    },
    "language_info": {
      "name": "python"
    }
  },
  "cells": [
    {
      "cell_type": "markdown",
      "metadata": {
        "id": "view-in-github",
        "colab_type": "text"
      },
      "source": [
        "<a href=\"https://colab.research.google.com/github/AshwaniKrSonu619/-Remark-Skill-Python-Projects-Works-/blob/main/Dice_Rolling_Simulator.ipynb\" target=\"_parent\"><img src=\"https://colab.research.google.com/assets/colab-badge.svg\" alt=\"Open In Colab\"/></a>"
      ]
    },
    {
      "cell_type": "markdown",
      "source": [
        "# **Dice Rolling Simulator**"
      ],
      "metadata": {
        "id": "gp_6_8oyc2c3"
      }
    },
    {
      "cell_type": "code",
      "source": [
        "import random\n",
        "\n",
        "\n",
        "x = \"y\"\n",
        "\n",
        "while x == \"y\":\n",
        "\t\n",
        "\t# Generates a random number\n",
        "\t# between 1 and 6 (including\n",
        "\t# both 1 and 6)\n",
        "\tno = random.randint(1,6)\n",
        "\t\n",
        "\tif no == 1:\n",
        "\t\tprint(\"[-----]\")\n",
        "\t\tprint(\"[\t ]\")\n",
        "\t\tprint(\"[ 0 ]\")\n",
        "\t\tprint(\"[\t ]\")\n",
        "\t\tprint(\"[-----]\")\n",
        "\tif no == 2:\n",
        "\t\tprint(\"[-----]\")\n",
        "\t\tprint(\"[ 0 ]\")\n",
        "\t\tprint(\"[\t ]\")\n",
        "\t\tprint(\"[ 0 ]\")\n",
        "\t\tprint(\"[-----]\")\n",
        "\tif no == 3:\n",
        "\t\tprint(\"[-----]\")\n",
        "\t\tprint(\"[\t ]\")\n",
        "\t\tprint(\"[0 0 0]\")\n",
        "\t\tprint(\"[\t ]\")\n",
        "\t\tprint(\"[-----]\")\n",
        "\tif no == 4:\n",
        "\t\tprint(\"[-----]\")\n",
        "\t\tprint(\"[0 0]\")\n",
        "\t\tprint(\"[\t ]\")\n",
        "\t\tprint(\"[0 0]\")\n",
        "\t\tprint(\"[-----]\")\n",
        "\tif no == 5:\n",
        "\t\tprint(\"[-----]\")\n",
        "\t\tprint(\"[0 0]\")\n",
        "\t\tprint(\"[ 0 ]\")\n",
        "\t\tprint(\"[0 0]\")\n",
        "\t\tprint(\"[-----]\")\n",
        "\tif no == 6:\n",
        "\t\tprint(\"[-----]\")\n",
        "\t\tprint(\"[0 0 0]\")\n",
        "\t\tprint(\"[\t ]\")\n",
        "\t\tprint(\"[0 0 0]\")\n",
        "\t\tprint(\"[-----]\")\n",
        "\t\t\n",
        "\tx=input(\"press y to roll again and n to exit:\")\n",
        "\tprint(\"\\n\")\n"
      ],
      "metadata": {
        "colab": {
          "base_uri": "https://localhost:8080/"
        },
        "id": "sk_kTtuoc_Gj",
        "outputId": "a39b33de-adfe-476e-c073-f7633b255a5f"
      },
      "execution_count": null,
      "outputs": [
        {
          "output_type": "stream",
          "name": "stdout",
          "text": [
            "[-----]\n",
            "[0 0 0]\n",
            "[\t ]\n",
            "[0 0 0]\n",
            "[-----]\n",
            "press y to roll again and n to exit:y\n",
            "\n",
            "\n",
            "[-----]\n",
            "[\t ]\n",
            "[ 0 ]\n",
            "[\t ]\n",
            "[-----]\n",
            "press y to roll again and n to exit:y\n",
            "\n",
            "\n",
            "[-----]\n",
            "[ 0 ]\n",
            "[\t ]\n",
            "[ 0 ]\n",
            "[-----]\n",
            "press y to roll again and n to exit:y\n",
            "\n",
            "\n",
            "[-----]\n",
            "[0 0]\n",
            "[ 0 ]\n",
            "[0 0]\n",
            "[-----]\n",
            "press y to roll again and n to exit:y\n",
            "\n",
            "\n",
            "[-----]\n",
            "[\t ]\n",
            "[0 0 0]\n",
            "[\t ]\n",
            "[-----]\n",
            "press y to roll again and n to exit:y\n",
            "\n",
            "\n",
            "[-----]\n",
            "[\t ]\n",
            "[0 0 0]\n",
            "[\t ]\n",
            "[-----]\n",
            "press y to roll again and n to exit:y\n",
            "\n",
            "\n",
            "[-----]\n",
            "[0 0]\n",
            "[ 0 ]\n",
            "[0 0]\n",
            "[-----]\n",
            "press y to roll again and n to exit:y\n",
            "\n",
            "\n",
            "[-----]\n",
            "[\t ]\n",
            "[ 0 ]\n",
            "[\t ]\n",
            "[-----]\n",
            "press y to roll again and n to exit:y\n",
            "\n",
            "\n",
            "[-----]\n",
            "[\t ]\n",
            "[ 0 ]\n",
            "[\t ]\n",
            "[-----]\n",
            "press y to roll again and n to exit:y\n",
            "\n",
            "\n",
            "[-----]\n",
            "[\t ]\n",
            "[0 0 0]\n",
            "[\t ]\n",
            "[-----]\n",
            "press y to roll again and n to exit:y\n",
            "\n",
            "\n",
            "[-----]\n",
            "[0 0]\n",
            "[ 0 ]\n",
            "[0 0]\n",
            "[-----]\n"
          ]
        }
      ]
    }
  ]
}